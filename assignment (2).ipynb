{
 "cells": [
  {
   "cell_type": "markdown",
   "id": "81d78fb2-908d-4d2a-8192-3e114f721f88",
   "metadata": {},
   "source": [
    "Q1. How do you comment code in Python? What are the different types of comments?\n",
    "\n",
    "In Python, you can add comments to your code to provide explanations, notes, or to temporarily disable certain code segments. Comments are ignored by the Python interpreter and do not affect the execution of the program.\n",
    "\n",
    "There are 2 types of comments in Python:\n",
    "    \n",
    "a) Single line comment:\n",
    "    \n",
    "To add a single-line comment in Python, you can use the hash symbol (#). Anything after the hash symbol on the same line will be considered a comment. Here's an example:"
   ]
  },
  {
   "cell_type": "code",
   "execution_count": 5,
   "id": "91f93ff0-ba4b-4407-b765-4437e43c7ff5",
   "metadata": {},
   "outputs": [],
   "source": [
    " ## Sabreen is Persuing Data science Course"
   ]
  },
  {
   "cell_type": "markdown",
   "id": "ba6e829a-d3cf-4b99-bfc0-170a30da07e1",
   "metadata": {},
   "source": [
    "Above Comment is the example of single line comment"
   ]
  },
  {
   "cell_type": "markdown",
   "id": "1efdbe03-8100-49f5-9287-5aa24a5c1ab7",
   "metadata": {},
   "source": [
    "b). Multi-line Comment:\n",
    "    To add a multi-line comment in python we can use #. anything after the hash in every single line will be considered as multiple-line comment. for example:-"
   ]
  },
  {
   "cell_type": "code",
   "execution_count": 11,
   "id": "b1c722ab-3f46-47cb-9797-06cda87114d4",
   "metadata": {},
   "outputs": [],
   "source": [
    "# My name is Sabreen\n",
    "# I have recently Completed my graduation in B.com\n",
    "# Then I got Selected for BYjus as a BDA, I worked there for a quite time\n",
    "# Then I realized that sales is not the field which Iam looking for\n",
    "# That's why I decided to persue Data Science Masters\n",
    "# Now I will work Hard and will explore new things to become a perfect data scientist in upcoming days\n"
   ]
  },
  {
   "cell_type": "markdown",
   "id": "0b715c53-d45b-4e64-9124-2b330b11c90a",
   "metadata": {},
   "source": [
    "Q2. What are variables in Python? How do you declare and assign values to variables?\n",
    "\n",
    "In Python, variables are used to store and manipulate data. A variable is a named reference to a value, allowing you to access and modify the value throughout your program.\n",
    "\n",
    "To declare and assign a value to a variable in Python, we simply use the assignment operator (=). "
   ]
  },
  {
   "cell_type": "markdown",
   "id": "fa1eb276-0827-48bd-af22-d3eacff18199",
   "metadata": {},
   "source": [
    "example:-"
   ]
  },
  {
   "cell_type": "raw",
   "id": "5db9829a-1a33-4592-9584-795da08b70a2",
   "metadata": {},
   "source": [
    "Festival = \"ramzan\"\n",
    "In this example, a variable named 'Festival' is declared and assigned the value 'ramazn'. After this line of code, 'Festival' holds the value 'ramzan'."
   ]
  },
  {
   "cell_type": "markdown",
   "id": "74042fc7-6676-4873-adb1-cd9b0d75f20a",
   "metadata": {},
   "source": [
    "Q3. How do you convert one data type to another in Python?\n",
    "\n",
    "In Python, we can convert one data type to another using type conversion functions. For example:\n",
    "\n"
   ]
  },
  {
   "cell_type": "code",
   "execution_count": 12,
   "id": "049a4626-4e94-4fdf-ba81-6d5bd3480cf1",
   "metadata": {},
   "outputs": [],
   "source": [
    "num_1 = 50"
   ]
  },
  {
   "cell_type": "code",
   "execution_count": 13,
   "id": "34095c4e-7a1e-4f0a-ae3b-10c06958026a",
   "metadata": {},
   "outputs": [],
   "source": [
    "my_str= str(num_1)"
   ]
  },
  {
   "cell_type": "code",
   "execution_count": 14,
   "id": "1761827b-b1d6-41ae-bf72-419506f75100",
   "metadata": {},
   "outputs": [
    {
     "data": {
      "text/plain": [
       "'50'"
      ]
     },
     "execution_count": 14,
     "metadata": {},
     "output_type": "execute_result"
    }
   ],
   "source": [
    "my_str"
   ]
  },
  {
   "cell_type": "markdown",
   "id": "670e9e74-69d8-427e-ab50-3b73bef7e2c1",
   "metadata": {},
   "source": [
    "Example 2:"
   ]
  },
  {
   "cell_type": "code",
   "execution_count": 21,
   "id": "773f2820-efb8-4b4a-99dd-ca740030656e",
   "metadata": {},
   "outputs": [],
   "source": [
    "my_list = [23,60,78,45, 78.90]"
   ]
  },
  {
   "cell_type": "code",
   "execution_count": 23,
   "id": "3bb19371-0134-4cb8-bb84-917506c82ee7",
   "metadata": {},
   "outputs": [],
   "source": [
    "my_tuple = tuple(my_list)"
   ]
  },
  {
   "cell_type": "code",
   "execution_count": 24,
   "id": "56e40058-d4b9-4158-a2ad-902ce9c6d0bb",
   "metadata": {},
   "outputs": [
    {
     "data": {
      "text/plain": [
       "(23, 60, 78, 45, 78.9)"
      ]
     },
     "execution_count": 24,
     "metadata": {},
     "output_type": "execute_result"
    }
   ],
   "source": [
    "my_tuple"
   ]
  },
  {
   "cell_type": "markdown",
   "id": "000658d3-a4d9-42f5-844d-49695dd35633",
   "metadata": {},
   "source": [
    "Example 3:"
   ]
  },
  {
   "cell_type": "code",
   "execution_count": 31,
   "id": "a98863c3-435e-4bbd-b0b2-83412651bd49",
   "metadata": {},
   "outputs": [],
   "source": [
    "sabr = 1"
   ]
  },
  {
   "cell_type": "code",
   "execution_count": 33,
   "id": "0fe7eae7-38c6-4404-8da5-4722fac64b32",
   "metadata": {},
   "outputs": [],
   "source": [
    "kouser = bool(sabr)"
   ]
  },
  {
   "cell_type": "code",
   "execution_count": 36,
   "id": "e01f15bc-be77-45ad-bbd9-d37763ba1443",
   "metadata": {},
   "outputs": [
    {
     "data": {
      "text/plain": [
       "True"
      ]
     },
     "execution_count": 36,
     "metadata": {},
     "output_type": "execute_result"
    }
   ],
   "source": [
    "kouser"
   ]
  },
  {
   "cell_type": "markdown",
   "id": "24db081e-f07d-4c92-8bf5-843b771b18a3",
   "metadata": {},
   "source": [
    "Above are the some examples of Converting one data type into another data type in python."
   ]
  },
  {
   "cell_type": "markdown",
   "id": "268ed1be-620a-40a8-bd91-878873450144",
   "metadata": {},
   "source": [
    "Q4. How do you write and execute a Python script from the command line?\n",
    "\n",
    "a) Open a text editor  and create a new file.\n",
    "b) Write your Python code in the file. For example: Print( \"Hello , World!\")\n",
    "c) Save the file with a .py extension. \n",
    "d) Open a command prompt (Windows) or terminal\n",
    "e) Navigate to the directory where you saved your Python script using the cd command. For example, if the script is saved on the desktop, navigate to the desktop using 'cd Desktop'\n",
    "f) Once you are in the correct directory, you can execute the Python script by typing python followed by the script's      filename and pressing Enter: \"python hello.py\"\n",
    "g) The Python script will be executed, and you will see the output in the command prompt or terminal:"
   ]
  },
  {
   "cell_type": "code",
   "execution_count": 4,
   "id": "81af248e-2a7f-4bbd-ab49-588d402f5ee2",
   "metadata": {},
   "outputs": [
    {
     "name": "stdout",
     "output_type": "stream",
     "text": [
      "Hello, World!\n"
     ]
    }
   ],
   "source": [
    "print(\"Hello, World!\")"
   ]
  },
  {
   "cell_type": "markdown",
   "id": "2439d2fb-2ec8-4940-a7ff-6a7273c93776",
   "metadata": {},
   "source": [
    "Q5. Given a list my_list = [1, 2, 3, 4, 5], write the code to slice the list and obtain the sub-list [2, 3]."
   ]
  },
  {
   "cell_type": "code",
   "execution_count": 61,
   "id": "55240cb4-f48d-4d62-b6eb-7bf6c0efcff8",
   "metadata": {},
   "outputs": [
    {
     "name": "stdout",
     "output_type": "stream",
     "text": [
      "[2, 3]\n"
     ]
    }
   ],
   "source": [
    "my_list = [1,2,3,4,5]\n",
    "sub_list = my_list[1:3]\n",
    "print (sub_list)"
   ]
  },
  {
   "cell_type": "markdown",
   "id": "69c07d63-6081-44fe-8a31-9255ed6a43c5",
   "metadata": {},
   "source": [
    "Q6. What is a complex number in mathematics, and how is it represented in Python?\n",
    "\n",
    "In mathematics, a complex number is a number that consists of a real part and an imaginary part. It is written in the form \"a + bi\", where \"a\" represents the real part and \"b\" represents the imaginary part. The imaginary part is multiplied by the imaginary unit \"i\" (or \"j\" in some context)\n",
    "\n",
    "In Python, complex numbers are represented using the complex data type. The imaginary part is denoted by a suffix of \"j\" or \"J\". The real and imaginary parts can be either integers or floating-point numbers. For example:"
   ]
  },
  {
   "cell_type": "code",
   "execution_count": 63,
   "id": "a77e43c5-c99e-410b-bddd-0f6686f50b72",
   "metadata": {},
   "outputs": [
    {
     "name": "stdout",
     "output_type": "stream",
     "text": [
      "(5+4j)\n"
     ]
    }
   ],
   "source": [
    "vindhya = 5+4j\n",
    "print(vin)"
   ]
  },
  {
   "cell_type": "code",
   "execution_count": 64,
   "id": "c84768e1-5be5-4f2b-93eb-1c14014eb602",
   "metadata": {},
   "outputs": [
    {
     "name": "stdout",
     "output_type": "stream",
     "text": [
      "(8+2.5j)\n"
     ]
    }
   ],
   "source": [
    "var8 = 8+2.5j\n",
    "print(var8)"
   ]
  },
  {
   "cell_type": "markdown",
   "id": "1fe4f86f-5811-4a1d-8a55-4550ea91cce2",
   "metadata": {},
   "source": [
    "Q7. What is the correct way to declare a variable named age and assign the value 25 to it?"
   ]
  },
  {
   "cell_type": "code",
   "execution_count": 65,
   "id": "6afa4c32-f250-4e42-a803-99b77b7a2bc7",
   "metadata": {},
   "outputs": [],
   "source": [
    "age = 25"
   ]
  },
  {
   "cell_type": "markdown",
   "id": "6d914b4e-6d03-45f7-a0bc-682ff6d260a3",
   "metadata": {},
   "source": [
    "In this line of code, the variable 'age' is declared and assigned the value '25' using the assignment operator =. This line creates a variable named 'age' and assigns the integer value '25' to it."
   ]
  },
  {
   "cell_type": "markdown",
   "id": "c1a15de8-8957-4bd9-98a5-fb32c50575c8",
   "metadata": {},
   "source": [
    "Q8. Declare a variable named price and assign the value 9.99 to it. What data type does this variable\n",
    "belong to?"
   ]
  },
  {
   "cell_type": "code",
   "execution_count": 66,
   "id": "730d6608-ab05-4d3a-bdfa-412768bdd395",
   "metadata": {},
   "outputs": [
    {
     "name": "stdout",
     "output_type": "stream",
     "text": [
      "<class 'float'>\n"
     ]
    }
   ],
   "source": [
    "price = 9.99\n",
    "print(type(price))"
   ]
  },
  {
   "cell_type": "code",
   "execution_count": null,
   "id": "febab4ef-c702-4bd8-81bb-be0b72052e08",
   "metadata": {},
   "outputs": [],
   "source": [
    "Q9. Create a variable named name and assign your full name to it as a string. How would you print the\n",
    "value of this variable?"
   ]
  },
  {
   "cell_type": "code",
   "execution_count": 43,
   "id": "c1d7734c-5fb2-49a8-b159-04d184d3b7da",
   "metadata": {},
   "outputs": [
    {
     "name": "stdout",
     "output_type": "stream",
     "text": [
      "Sabreen\n"
     ]
    }
   ],
   "source": [
    "name = \"Sabreen\"\n",
    "print( name)"
   ]
  },
  {
   "cell_type": "markdown",
   "id": "3f794b1b-e787-4097-aa55-5f099cebe48e",
   "metadata": {},
   "source": [
    " Q10.Given the string \"Hello, World!\", extract the substring \"World\"."
   ]
  },
  {
   "cell_type": "code",
   "execution_count": 26,
   "id": "a46c34ed-4803-4eb4-a362-de40536f26cb",
   "metadata": {},
   "outputs": [
    {
     "name": "stdout",
     "output_type": "stream",
     "text": [
      "World\n"
     ]
    }
   ],
   "source": [
    "string = \"Hello, World!\"\n",
    "substring = string[7:12]\n",
    "print(substring)"
   ]
  },
  {
   "cell_type": "raw",
   "id": "b3c59d16-d18a-44b1-8244-46daa6f8dd5c",
   "metadata": {},
   "source": [
    "Q11. Create a variable named \"is_student\" and assign it a boolean value indicating whether you are\n",
    "currently a student or not."
   ]
  },
  {
   "cell_type": "code",
   "execution_count": 14,
   "id": "03ecfa52-fb15-4a29-892c-02bdf587770e",
   "metadata": {},
   "outputs": [],
   "source": [
    "is_student = False"
   ]
  }
 ],
 "metadata": {
  "kernelspec": {
   "display_name": "Python 3 (ipykernel)",
   "language": "python",
   "name": "python3"
  },
  "language_info": {
   "codemirror_mode": {
    "name": "ipython",
    "version": 3
   },
   "file_extension": ".py",
   "mimetype": "text/x-python",
   "name": "python",
   "nbconvert_exporter": "python",
   "pygments_lexer": "ipython3",
   "version": "3.10.8"
  }
 },
 "nbformat": 4,
 "nbformat_minor": 5
}
